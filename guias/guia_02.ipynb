{
  "cells": [
    {
      "cell_type": "markdown",
      "metadata": {
        "id": "view-in-github",
        "colab_type": "text"
      },
      "source": [
        "<a href=\"https://colab.research.google.com/github/EbnerLautaro/Redes-Neuronales/blob/main/guias/guia_02.ipynb\" target=\"_parent\"><img src=\"https://colab.research.google.com/assets/colab-badge.svg\" alt=\"Open In Colab\"/></a>"
      ]
    },
    {
      "cell_type": "markdown",
      "metadata": {
        "id": "NRYEofSD0xoF"
      },
      "source": [
        "# Familiarizandose con **Numpy**\n",
        "\n",
        "Referencias:\n",
        "* https://www.datacamp.com/cheat-sheet/numpy-cheat-sheet-data-analysis-in-python\n",
        "* https://towardsdatascience.com/a-cheat-sheet-on-generating-random-numbers-in-numpy-5fe95ec2286"
      ]
    },
    {
      "cell_type": "markdown",
      "metadata": {
        "id": "d0o2HYkP3TcI"
      },
      "source": [
        "## **Ejercicio 1)** Importando librerías\n",
        "\n",
        "Importe las librerías `numpy` para operar con arrays, `scipy` para operar con algebra lineal y `matplotlib.pyplot` para graficar."
      ]
    },
    {
      "cell_type": "code",
      "execution_count": null,
      "metadata": {
        "id": "I8N3D_nU1_oT"
      },
      "outputs": [],
      "source": [
        "import numpy as np\n",
        "import scipy as sp\n",
        "import matplotlib.pyplot as plt\n"
      ]
    },
    {
      "cell_type": "markdown",
      "metadata": {
        "id": "NcaGEHAd10sb"
      },
      "source": [
        "## **Ejercicio 2)** Creando arrays\n"
      ]
    },
    {
      "cell_type": "markdown",
      "metadata": {},
      "source": [
        "\n",
        "**1)** Cree un array de enteros `a` a partir de la lista `[1,2,3]`.\n"
      ]
    },
    {
      "cell_type": "code",
      "execution_count": null,
      "metadata": {
        "id": "kmcjSK0BCua3"
      },
      "outputs": [],
      "source": [
        "b = np.array([[1.5, 2, 3], [4, 5, 6]], dtype=np.float32)\n"
      ]
    },
    {
      "cell_type": "markdown",
      "metadata": {},
      "source": [
        "**3)** Cree un array tridimensional de flotantes `c` a partir de la lista de listas `[[[1.5,2,3],[4,5,6]],[[3,2,1],[4,5,6]]]`."
      ]
    },
    {
      "cell_type": "code",
      "execution_count": 77,
      "metadata": {},
      "outputs": [],
      "source": [
        "c = np.array([[[[1.5, 2, 3], [4, 5, 6]], [[3, 2, 1], [4, 5, 6]]]], dtype=np.float32)\n"
      ]
    },
    {
      "cell_type": "markdown",
      "metadata": {
        "id": "qxuzt1pLQAzE"
      },
      "source": [
        "## **Ejercicio 3)** Inicializando arrays\n",
        "\n"
      ]
    },
    {
      "cell_type": "markdown",
      "metadata": {
        "id": "StBLEsuR3TcK"
      },
      "source": [
        "**1)** Utilice `np.zeros` para crear un array bidimensional de flotantes incializados a `0.0`, y de dimensiones de tamaños `(3,4)`.\n",
        "\n"
      ]
    },
    {
      "cell_type": "code",
      "execution_count": null,
      "metadata": {
        "id": "am2dMRPnC0BJ"
      },
      "outputs": [],
      "source": [
        "# 3.1)\n",
        "a = np.zeros((3, 4), dtype=np.float32)\n"
      ]
    },
    {
      "cell_type": "markdown",
      "metadata": {
        "id": "jhoaCkG93TcK"
      },
      "source": [
        "**2)** Utilice `np.ones` para crear un array tridimensional de enteros inicializados a `1`, y de dimensiones `(2,3,4)`.\n",
        "\n"
      ]
    },
    {
      "cell_type": "code",
      "execution_count": null,
      "metadata": {
        "id": "24V8VN5b3TcK",
        "outputId": "8169aab7-5ce1-45e2-8109-e73cbbb189b4"
      },
      "outputs": [
        {
          "data": {
            "text/plain": [
              "array([[[1, 1, 1, 1],\n",
              "        [1, 1, 1, 1],\n",
              "        [1, 1, 1, 1]],\n",
              "\n",
              "       [[1, 1, 1, 1],\n",
              "        [1, 1, 1, 1],\n",
              "        [1, 1, 1, 1]]], dtype=int32)"
            ]
          },
          "execution_count": 79,
          "metadata": {},
          "output_type": "execute_result"
        }
      ],
      "source": [
        "# 3.2)\n",
        "np.ones((2, 3, 4), dtype=np.int32)\n"
      ]
    },
    {
      "cell_type": "markdown",
      "metadata": {
        "id": "j1V9ULxw3TcL"
      },
      "source": [
        "**3)** Utilice `np.arange` para crear un array `d` de valores enteros equiespaciados de a `5` entre `10` y `25`.\n",
        "\n"
      ]
    },
    {
      "cell_type": "code",
      "execution_count": null,
      "metadata": {
        "id": "0HJVyXd_3TcL"
      },
      "outputs": [],
      "source": [
        "# 3.3)\n",
        "d = np.arange(start=10, stop=26, step=5)\n"
      ]
    },
    {
      "cell_type": "markdown",
      "metadata": {
        "id": "vfqM3b-03TcL"
      },
      "source": [
        "**4)** Utilice `np.linspace` para crear un array de `9` valores flotantes equiespaciados entre `0.0` y `9.0`.\n",
        "\n"
      ]
    },
    {
      "cell_type": "code",
      "execution_count": null,
      "metadata": {
        "id": "8VkBeEDb3TcL",
        "outputId": "598dac9c-da2e-4519-b4ae-e29268641fe4"
      },
      "outputs": [
        {
          "data": {
            "text/plain": [
              "array([0.   , 1.125, 2.25 , 3.375, 4.5  , 5.625, 6.75 , 7.875, 9.   ])"
            ]
          },
          "execution_count": 81,
          "metadata": {},
          "output_type": "execute_result"
        }
      ],
      "source": [
        "# 3.4)\n",
        "np.linspace(start=0.0, stop=9.0, num=9)\n"
      ]
    },
    {
      "cell_type": "markdown",
      "metadata": {
        "id": "0H6ZJHuB3TcL"
      },
      "source": [
        "**5)** Utilice `np.full` para crear un array bidimensional llamado `e` de entradas iguales a `7`, y de dimesiones `(2,2)`.\n",
        "\n"
      ]
    },
    {
      "cell_type": "code",
      "execution_count": null,
      "metadata": {
        "id": "6jO_w-5l3TcM"
      },
      "outputs": [],
      "source": [
        "# 3.5)\n",
        "e = np.full((2, 2), 7)\n"
      ]
    },
    {
      "cell_type": "markdown",
      "metadata": {
        "id": "hq9kruhZ3TcM"
      },
      "source": [
        "**6)** Utilice `np.eye` para crear una matriz identidad llamada `f` de dimensiones 2x2.\n",
        "\n"
      ]
    },
    {
      "cell_type": "code",
      "execution_count": null,
      "metadata": {
        "id": "lu2o2g963TcM"
      },
      "outputs": [],
      "source": [
        "# 3.6)\n",
        "f = np.eye(N=2, M=2)\n"
      ]
    },
    {
      "cell_type": "markdown",
      "metadata": {
        "id": "qiSVcQzE3TcM"
      },
      "source": [
        "**7)** Utilice `np.random.random` para crear un array bidimensional de dimensiones 2x2 inicializado con valores aleatorios uniformemente sorteados del intervalo $[0,1]$.\n",
        "\n"
      ]
    },
    {
      "cell_type": "code",
      "execution_count": null,
      "metadata": {
        "id": "Mryj-Fyb3TcM",
        "outputId": "f0c1b66f-5c3a-425f-94c2-c467f295f33f"
      },
      "outputs": [
        {
          "data": {
            "text/plain": [
              "array([[0.53508355, 0.00542317],\n",
              "       [0.85738391, 0.82367701]])"
            ]
          },
          "execution_count": 84,
          "metadata": {},
          "output_type": "execute_result"
        }
      ],
      "source": [
        "# 3.7)\n",
        "np.random.random((2, 2))\n"
      ]
    },
    {
      "cell_type": "markdown",
      "metadata": {
        "id": "KqefY-SD3TcM"
      },
      "source": [
        "**8)** Utilice `np.empty` para crear un array bidimensional sin inicializar y de dimensiones `(3,2)`.\n"
      ]
    },
    {
      "cell_type": "code",
      "execution_count": null,
      "metadata": {
        "id": "q7UXsnvE3TcM",
        "outputId": "87040351-d5dd-4141-9632-1d97d1d8ec50"
      },
      "outputs": [
        {
          "data": {
            "text/plain": [
              "array([[2.00000047e+00, 5.12000123e+02],\n",
              "       [8.19200197e+03, 2.00000047e+00],\n",
              "       [5.12000123e+02, 8.19200197e+03]])"
            ]
          },
          "execution_count": 85,
          "metadata": {},
          "output_type": "execute_result"
        }
      ],
      "source": [
        "# 3.8)\n",
        "np.empty((3, 2))\n"
      ]
    },
    {
      "cell_type": "markdown",
      "metadata": {
        "id": "XYA7TEySCIF6"
      },
      "source": [
        "## **Ejercicio 4)** Inspeccionando arrays\n",
        "\n",
        "Considere los arrays de los ejercicios 2) y 3).\n",
        "\n"
      ]
    },
    {
      "cell_type": "markdown",
      "metadata": {
        "id": "ndrRdt6i3TcM"
      },
      "source": [
        "**1)** Utilizando `.shape`, determine cuales son las dimensiones del array `a`.\n",
        "\n"
      ]
    },
    {
      "cell_type": "code",
      "execution_count": null,
      "metadata": {
        "id": "3w4J3xLLR8J2",
        "outputId": "fac0565b-9d1d-4194-8a9a-3153a59d3011"
      },
      "outputs": [
        {
          "data": {
            "text/plain": [
              "(3, 4)"
            ]
          },
          "execution_count": 86,
          "metadata": {},
          "output_type": "execute_result"
        }
      ],
      "source": [
        "# 4.1)\n",
        "a.shape\n"
      ]
    },
    {
      "cell_type": "markdown",
      "metadata": {
        "id": "-SUIqwoc3TcM"
      },
      "source": [
        "**2)** Utilizando la función `len()`, determine el *largo* del array `a`.\n",
        "\n"
      ]
    },
    {
      "cell_type": "code",
      "execution_count": null,
      "metadata": {
        "id": "3839MFBP3TcM",
        "outputId": "0a9e912b-52d6-4f82-a5a2-8efe0a9d5807"
      },
      "outputs": [
        {
          "data": {
            "text/plain": [
              "3"
            ]
          },
          "execution_count": 87,
          "metadata": {},
          "output_type": "execute_result"
        }
      ],
      "source": [
        "# 4.2)\n",
        "len(a)\n"
      ]
    },
    {
      "cell_type": "markdown",
      "metadata": {
        "id": "2oiHwwpI3TcM"
      },
      "source": [
        "**3)** Utilizando `.ndim`, determine el número de dimensiones del array `b`.\n",
        "\n"
      ]
    },
    {
      "cell_type": "code",
      "execution_count": null,
      "metadata": {
        "id": "KfVZ-OC43TcM",
        "outputId": "b6aca198-8e7d-44d9-ca4c-3c8f5398fedd"
      },
      "outputs": [
        {
          "data": {
            "text/plain": [
              "2"
            ]
          },
          "execution_count": 88,
          "metadata": {},
          "output_type": "execute_result"
        }
      ],
      "source": [
        "# 4.3)\n",
        "b.ndim\n"
      ]
    },
    {
      "cell_type": "markdown",
      "metadata": {
        "id": "8wu4I6zO3TcN"
      },
      "source": [
        "**4)** Utilizando `.size`, determine el número de entradas que tienen `e`.\n",
        "\n"
      ]
    },
    {
      "cell_type": "code",
      "execution_count": null,
      "metadata": {
        "id": "PPDvTQFC3TcN",
        "outputId": "e937e893-e829-449c-d620-e76ebaa1a883"
      },
      "outputs": [
        {
          "data": {
            "text/plain": [
              "4"
            ]
          },
          "execution_count": 89,
          "metadata": {},
          "output_type": "execute_result"
        }
      ],
      "source": [
        "# 4.4)\n",
        "e.size\n"
      ]
    },
    {
      "cell_type": "markdown",
      "metadata": {
        "id": "XodoKct13TcN"
      },
      "source": [
        "**5)** Utilizando `.dtype`, determine el tipo de los datos contenidos por el array `b`.\n",
        "\n"
      ]
    },
    {
      "cell_type": "code",
      "execution_count": null,
      "metadata": {
        "id": "IT96YDa03TcN",
        "outputId": "f6e6f91f-23e7-4011-b15a-8330ffa29f53"
      },
      "outputs": [
        {
          "data": {
            "text/plain": [
              "dtype('float32')"
            ]
          },
          "execution_count": 90,
          "metadata": {},
          "output_type": "execute_result"
        }
      ],
      "source": [
        "# 4.5)\n",
        "b.dtype\n"
      ]
    },
    {
      "cell_type": "markdown",
      "metadata": {
        "id": "EZIwDeRJ3TcN"
      },
      "source": [
        "**6)** Utilizando `.dtype.name`, determine el nombre del tipo de los datos contenidos por el array `b`.\n",
        "\n"
      ]
    },
    {
      "cell_type": "code",
      "execution_count": null,
      "metadata": {
        "id": "GUoUqUft3TcN",
        "outputId": "eafdc97d-de51-463f-81fb-fae2091d9333"
      },
      "outputs": [
        {
          "data": {
            "text/plain": [
              "'float32'"
            ]
          },
          "execution_count": 91,
          "metadata": {},
          "output_type": "execute_result"
        }
      ],
      "source": [
        "# 4.6)\n",
        "b.dtype.name\n"
      ]
    },
    {
      "cell_type": "markdown",
      "metadata": {
        "id": "_Thew6NX3TcN"
      },
      "source": [
        "**7)** Utilizando `.astype`, convierta el array `b` a un array de tipo `int`.\n",
        "\n"
      ]
    },
    {
      "cell_type": "code",
      "execution_count": null,
      "metadata": {
        "id": "3Czvd2M93TcN",
        "outputId": "28c57fd1-b3e0-4fe7-ca6f-70b3ecf336e3"
      },
      "outputs": [
        {
          "data": {
            "text/plain": [
              "array([[1, 2, 3],\n",
              "       [4, 5, 6]])"
            ]
          },
          "execution_count": 92,
          "metadata": {},
          "output_type": "execute_result"
        }
      ],
      "source": [
        "# 4.7)\n",
        "b.astype(int)\n"
      ]
    },
    {
      "cell_type": "markdown",
      "metadata": {
        "id": "NIvk_fOTpihu"
      },
      "source": [
        "## **Ejercicio 5)** Tipos de datos"
      ]
    },
    {
      "cell_type": "markdown",
      "metadata": {
        "id": "bv3_IXG63TcN"
      },
      "source": [
        "**1)** Cree un array que contenga elementos de tipo `np.int64`."
      ]
    },
    {
      "cell_type": "code",
      "execution_count": null,
      "metadata": {
        "id": "MD7Ik2Hm3TcR",
        "outputId": "ecdb42e1-5537-4ead-e084-b5cae25e90dd"
      },
      "outputs": [
        {
          "data": {
            "text/plain": [
              "array([], dtype=int64)"
            ]
          },
          "execution_count": 93,
          "metadata": {},
          "output_type": "execute_result"
        }
      ],
      "source": [
        "np.array([], dtype=np.int64)\n"
      ]
    },
    {
      "cell_type": "markdown",
      "metadata": {
        "id": "mn4yErc_3TcR"
      },
      "source": [
        "**2)** Cree un array que contenga elementos de tipo `np.float32`."
      ]
    },
    {
      "cell_type": "code",
      "execution_count": null,
      "metadata": {
        "id": "HDqKnBob3TcR",
        "outputId": "5aa2fccd-852b-49b5-fb16-a492cad01f60"
      },
      "outputs": [
        {
          "data": {
            "text/plain": [
              "array([], dtype=float32)"
            ]
          },
          "execution_count": 94,
          "metadata": {},
          "output_type": "execute_result"
        }
      ],
      "source": [
        "np.array([], dtype=np.float32)\n"
      ]
    },
    {
      "cell_type": "markdown",
      "metadata": {
        "id": "qyhxcYLI3TcR"
      },
      "source": [
        "**3)** Cree un array que contenga elementos de tipo `np.complex128`."
      ]
    },
    {
      "cell_type": "code",
      "execution_count": null,
      "metadata": {
        "id": "PctVPxQ93TcR",
        "outputId": "42cc145e-d40b-4213-a68f-04ab9a5f3c7a"
      },
      "outputs": [
        {
          "data": {
            "text/plain": [
              "array([], dtype=complex128)"
            ]
          },
          "execution_count": 95,
          "metadata": {},
          "output_type": "execute_result"
        }
      ],
      "source": [
        "np.array([], dtype=np.complex128)\n"
      ]
    },
    {
      "cell_type": "markdown",
      "metadata": {
        "id": "DAZvRusK3TcR"
      },
      "source": [
        "**4)** Cree un array que contenga elementos de tipo `np.bool`."
      ]
    },
    {
      "cell_type": "code",
      "execution_count": null,
      "metadata": {
        "id": "ne-5kfnP3TcR",
        "outputId": "80e458fe-3060-4d10-c86b-8bb6d1bd95c5"
      },
      "outputs": [
        {
          "data": {
            "text/plain": [
              "array([], dtype=bool)"
            ]
          },
          "execution_count": 96,
          "metadata": {},
          "output_type": "execute_result"
        }
      ],
      "source": [
        "np.array([], dtype=np.bool)\n"
      ]
    },
    {
      "cell_type": "markdown",
      "metadata": {
        "id": "-oz0e6lQ3TcR"
      },
      "source": [
        "**5)** Cree un array que contenga elementos de tipo `np.object`."
      ]
    },
    {
      "cell_type": "code",
      "execution_count": null,
      "metadata": {
        "id": "h_k6KTc63TcR",
        "outputId": "f6e881d1-6e45-4695-831e-f4f721cb3c40"
      },
      "outputs": [
        {
          "data": {
            "text/plain": [
              "array([], dtype=object)"
            ]
          },
          "execution_count": 97,
          "metadata": {},
          "output_type": "execute_result"
        }
      ],
      "source": [
        "np.array([], dtype=np.object_)\n"
      ]
    },
    {
      "cell_type": "markdown",
      "metadata": {
        "id": "7cbfvFQY3TcR"
      },
      "source": [
        "**6)** Cree un array que contenga elementos de tipo `np.string_`."
      ]
    },
    {
      "cell_type": "code",
      "execution_count": null,
      "metadata": {
        "id": "uXiIE0I93TcR",
        "outputId": "8d3b090c-a651-47a6-c96a-b8ed0346079a"
      },
      "outputs": [
        {
          "data": {
            "text/plain": [
              "array([], dtype='<U1')"
            ]
          },
          "execution_count": 98,
          "metadata": {},
          "output_type": "execute_result"
        }
      ],
      "source": [
        "np.array([], dtype=np.str_)\n"
      ]
    },
    {
      "cell_type": "markdown",
      "metadata": {
        "id": "Bo8BOzF83TcS"
      },
      "source": [
        "**7)** Cree un array que contenga elementos de tipo `np.unicode_`."
      ]
    },
    {
      "cell_type": "code",
      "execution_count": null,
      "metadata": {
        "id": "xX755Ho23TcS",
        "outputId": "76bd480b-9f77-4fc7-e4ce-e2f16aaed8db"
      },
      "outputs": [
        {
          "data": {
            "text/plain": [
              "array([], dtype='<U1')"
            ]
          },
          "execution_count": 99,
          "metadata": {},
          "output_type": "execute_result"
        }
      ],
      "source": [
        "np.array([], dtype=np.str_)\n"
      ]
    },
    {
      "cell_type": "markdown",
      "metadata": {
        "id": "DKT4mjnssUjE"
      },
      "source": [
        "## **Ejercicio 6)** Operando sobre arrays\n",
        "\n",
        "Considere los arrays de los ejercicios 2) y 3).\n",
        "\n",
        "**Ayuda:** use https://numpy.org/doc/stable/reference/generated/numpy.dot.html"
      ]
    },
    {
      "cell_type": "code",
      "execution_count": null,
      "metadata": {
        "id": "U0TQC-Pb3TcS"
      },
      "outputs": [],
      "source": [
        "# no tengo idea a que arrays se refiere\n",
        "\n",
        "a = np.array([1, 2, 3])\n",
        "b = np.array([[1.5, 2, 3], [4, 5, 6]], dtype=np.float32)\n"
      ]
    },
    {
      "cell_type": "markdown",
      "metadata": {
        "id": "VkT1A3kC3TcS"
      },
      "source": [
        "**1)** Calcule la resta `a-b` de los arrays `a` y `b` y almacene el resultado en un array `g`."
      ]
    },
    {
      "cell_type": "code",
      "execution_count": null,
      "metadata": {
        "id": "nBcrkX0-3TcS",
        "outputId": "8f45cd89-78da-4968-d86f-4405ab335e3c"
      },
      "outputs": [
        {
          "data": {
            "text/plain": [
              "(array([[-0.5,  0. ,  0. ],\n",
              "        [-3. , -3. , -3. ]]),\n",
              " numpy.ndarray)"
            ]
          },
          "execution_count": 101,
          "metadata": {},
          "output_type": "execute_result"
        }
      ],
      "source": [
        "g = a - b\n",
        "g, type(g)\n"
      ]
    },
    {
      "cell_type": "markdown",
      "metadata": {
        "id": "OPGHoSrN3TcS"
      },
      "source": [
        "\n",
        "**2)** Notar que `a` y `b` poseen diferentes dimensiones (i.e., `a.shape` es distinto de `b.shape`) y, sin embargo, en el inciso anterior numpy computa la suma `a+b`. Explique lo que ocurre.\n"
      ]
    },
    {
      "cell_type": "code",
      "execution_count": null,
      "metadata": {
        "id": "q1_qL3Li3TcS",
        "outputId": "c490bc87-0b54-48a5-deaf-11704eb89733"
      },
      "outputs": [
        {
          "name": "stdout",
          "output_type": "stream",
          "text": [
            "a+b = array([[2.5, 4. , 6. ],\n",
            "       [5. , 7. , 9. ]])\n",
            "\n",
            "notar que se retorna la union de lo siguiente: \n",
            "\n",
            "a+b[0] = array([2.5, 4. , 6. ])\n",
            "a+b[1] = array([5., 7., 9.])\n"
          ]
        }
      ],
      "source": [
        "print(f\"{a+b = }\")\n",
        "print(\"\\nnotar que se retorna la union de lo siguiente: \\n\")\n",
        "print(f\"{a+b[0] = }\")\n",
        "print(f\"{a+b[1] = }\")\n"
      ]
    },
    {
      "cell_type": "markdown",
      "metadata": {
        "id": "tITX_Y513TcS"
      },
      "source": [
        "**3)** Compare el anterior resultado con el uso de `np.substract`."
      ]
    },
    {
      "cell_type": "code",
      "execution_count": null,
      "metadata": {
        "id": "Ocuv60hx3TcS",
        "outputId": "e6531b94-9ebf-4370-b64a-fca6e26f544f"
      },
      "outputs": [
        {
          "data": {
            "text/plain": [
              "array([[-0.5,  0. ,  0. ],\n",
              "       [-3. , -3. , -3. ]])"
            ]
          },
          "execution_count": 103,
          "metadata": {},
          "output_type": "execute_result"
        }
      ],
      "source": [
        "# es lo mismo\n",
        "np.subtract(a, b)\n"
      ]
    },
    {
      "cell_type": "markdown",
      "metadata": {
        "id": "HQrsYG4j3TcS"
      },
      "source": [
        "**4)** Calcule la suma `a-b` de los arrays `a` y `b`."
      ]
    },
    {
      "cell_type": "code",
      "execution_count": null,
      "metadata": {
        "id": "DwN1VmfD3TcS",
        "outputId": "03eca482-e84d-4802-b193-fb5dde963ede"
      },
      "outputs": [
        {
          "data": {
            "text/plain": [
              "array([[2.5, 4. , 6. ],\n",
              "       [5. , 7. , 9. ]])"
            ]
          },
          "execution_count": 104,
          "metadata": {},
          "output_type": "execute_result"
        }
      ],
      "source": [
        "a + b\n"
      ]
    },
    {
      "cell_type": "markdown",
      "metadata": {
        "id": "JBxFFWEc3TcS"
      },
      "source": [
        "**5)** Compare el anterior resultado con el uso de `np.add`."
      ]
    },
    {
      "cell_type": "code",
      "execution_count": null,
      "metadata": {
        "id": "uArj_D3o3TcS",
        "outputId": "2df2d8dc-2028-4fc7-e560-c6f07744fd8e"
      },
      "outputs": [
        {
          "data": {
            "text/plain": [
              "array([[2.5, 4. , 6. ],\n",
              "       [5. , 7. , 9. ]])"
            ]
          },
          "execution_count": 105,
          "metadata": {},
          "output_type": "execute_result"
        }
      ],
      "source": [
        "# es lo mismo\n",
        "np.add(a, b)\n"
      ]
    },
    {
      "cell_type": "markdown",
      "metadata": {
        "id": "RFt1XaR33TcS"
      },
      "source": [
        "**6)** Calcule la división punto a punto  `a/b` de `a` y `b`."
      ]
    },
    {
      "cell_type": "code",
      "execution_count": null,
      "metadata": {
        "id": "nmiK_5Po3TcS",
        "outputId": "28f6129a-600c-4516-ebe0-739ca4741513"
      },
      "outputs": [
        {
          "data": {
            "text/plain": [
              "array([[0.66666667, 1.        , 1.        ],\n",
              "       [0.25      , 0.4       , 0.5       ]])"
            ]
          },
          "execution_count": 106,
          "metadata": {},
          "output_type": "execute_result"
        }
      ],
      "source": [
        "a / b\n"
      ]
    },
    {
      "cell_type": "markdown",
      "metadata": {
        "id": "lqiICLcc3TcS"
      },
      "source": [
        "**7)** Compare el anterior resultado con el uso de `np.divide`."
      ]
    },
    {
      "cell_type": "code",
      "execution_count": null,
      "metadata": {
        "id": "RiLoDOKq3TcT",
        "outputId": "eb53acda-1de5-4717-cd6e-af29dc008999"
      },
      "outputs": [
        {
          "data": {
            "text/plain": [
              "array([[0.66666667, 1.        , 1.        ],\n",
              "       [0.25      , 0.4       , 0.5       ]])"
            ]
          },
          "execution_count": 107,
          "metadata": {},
          "output_type": "execute_result"
        }
      ],
      "source": [
        "np.divide(a, b)\n"
      ]
    },
    {
      "cell_type": "markdown",
      "metadata": {
        "id": "-bC0XAu63TcT"
      },
      "source": [
        "**8)** Calcule la multiplicación punto a punto  `a*b` de `a` y `b`."
      ]
    },
    {
      "cell_type": "code",
      "execution_count": null,
      "metadata": {
        "id": "njWdgMWm3TcT",
        "outputId": "83c03056-25dd-43d5-ed51-71d876b99a4b"
      },
      "outputs": [
        {
          "data": {
            "text/plain": [
              "array([[ 1.5,  4. ,  9. ],\n",
              "       [ 4. , 10. , 18. ]])"
            ]
          },
          "execution_count": 108,
          "metadata": {},
          "output_type": "execute_result"
        }
      ],
      "source": [
        "a * b\n"
      ]
    },
    {
      "cell_type": "markdown",
      "metadata": {
        "id": "tA27pnNP3TcT"
      },
      "source": [
        "**9)** Compare el anterior resultado con el uso de `np.multiply`.\n"
      ]
    },
    {
      "cell_type": "code",
      "execution_count": null,
      "metadata": {
        "id": "n5hNVPgk3TcT",
        "outputId": "09c6b528-20d2-4b40-c55c-2e948f04647f"
      },
      "outputs": [
        {
          "data": {
            "text/plain": [
              "array([[ 1.5,  4. ,  9. ],\n",
              "       [ 4. , 10. , 18. ]])"
            ]
          },
          "execution_count": 109,
          "metadata": {},
          "output_type": "execute_result"
        }
      ],
      "source": [
        "np.multiply(a, b)\n"
      ]
    },
    {
      "cell_type": "markdown",
      "metadata": {
        "id": "ctg7tpUA3TcT"
      },
      "source": [
        "\n",
        "**10)** Calcule la exponencial punto a punto  `np.exp(b)` de `b`."
      ]
    },
    {
      "cell_type": "code",
      "execution_count": null,
      "metadata": {
        "id": "h3mP4vtC3TcT",
        "outputId": "2646b5cb-2638-4837-89b3-11785cbce613"
      },
      "outputs": [
        {
          "data": {
            "text/plain": [
              "array([[  4.481689 ,   7.3890557,  20.085537 ],\n",
              "       [ 54.59815  , 148.41316  , 403.42877  ]], dtype=float32)"
            ]
          },
          "execution_count": 110,
          "metadata": {},
          "output_type": "execute_result"
        }
      ],
      "source": [
        "# calcula la exponencial de todos los elementos de b, es decir e^b[i][j]\n",
        "np.exp(b)\n"
      ]
    },
    {
      "cell_type": "markdown",
      "metadata": {
        "id": "l6LRm0AD3TcT"
      },
      "source": [
        "\n",
        "**11)** Calcule la raíz cuadrada punto a punto  `np.sqrt(b)` de `b`."
      ]
    },
    {
      "cell_type": "code",
      "execution_count": null,
      "metadata": {
        "id": "DH6OriMk3TcT",
        "outputId": "fd31b9a3-2469-4584-feb5-224ab4b0758f"
      },
      "outputs": [
        {
          "data": {
            "text/plain": [
              "array([[1.2247449, 1.4142135, 1.7320508],\n",
              "       [2.       , 2.236068 , 2.4494898]], dtype=float32)"
            ]
          },
          "execution_count": 111,
          "metadata": {},
          "output_type": "execute_result"
        }
      ],
      "source": [
        "# idem anterior\n",
        "np.sqrt(b)\n"
      ]
    },
    {
      "cell_type": "markdown",
      "metadata": {
        "id": "pawpJn783TcT"
      },
      "source": [
        "\n",
        "**12)** Calcule el seno punto a punto  `np.sin(a)` de `a`."
      ]
    },
    {
      "cell_type": "code",
      "execution_count": null,
      "metadata": {
        "id": "vihuw2Jb3TcT",
        "outputId": "6581236d-7a3a-422c-b660-1126fc32bbb9"
      },
      "outputs": [
        {
          "data": {
            "text/plain": [
              "array([0.84147098, 0.90929743, 0.14112001])"
            ]
          },
          "execution_count": 112,
          "metadata": {},
          "output_type": "execute_result"
        }
      ],
      "source": [
        "np.sin(a)\n"
      ]
    },
    {
      "cell_type": "markdown",
      "metadata": {
        "id": "w6jnwnM_3TcT"
      },
      "source": [
        "\n",
        "**13)** Calcule el coseno punto a punto  `np.cos(b)` de `b`."
      ]
    },
    {
      "cell_type": "code",
      "execution_count": null,
      "metadata": {
        "id": "UxlkJtNp3TcT",
        "outputId": "fb2ec080-153a-4fa0-ee03-c623cc8c5106"
      },
      "outputs": [
        {
          "data": {
            "text/plain": [
              "array([[ 0.0707372 , -0.4161468 , -0.9899925 ],\n",
              "       [-0.6536436 ,  0.28366217,  0.96017027]], dtype=float32)"
            ]
          },
          "execution_count": 113,
          "metadata": {},
          "output_type": "execute_result"
        }
      ],
      "source": [
        "np.cos(b)\n"
      ]
    },
    {
      "cell_type": "markdown",
      "metadata": {
        "id": "9YH30gfb3TcT"
      },
      "source": [
        "\n",
        "**14)** Calcule el logaritmo natural punto a punto  `np.log(a)` de `a`."
      ]
    },
    {
      "cell_type": "code",
      "execution_count": null,
      "metadata": {
        "id": "XNC5DYUz3TcT",
        "outputId": "0730b855-85b5-42a5-8f68-62a6f404f8d6"
      },
      "outputs": [
        {
          "data": {
            "text/plain": [
              "array([0.        , 0.69314718, 1.09861229])"
            ]
          },
          "execution_count": 114,
          "metadata": {},
          "output_type": "execute_result"
        }
      ],
      "source": [
        "np.log(a)\n"
      ]
    },
    {
      "cell_type": "markdown",
      "metadata": {
        "id": "XT5cZVe13TcT"
      },
      "source": [
        "\n",
        "**15)** Calcule el producto punto `e.dot(f)` entre `e` y `f`."
      ]
    },
    {
      "cell_type": "code",
      "execution_count": null,
      "metadata": {
        "id": "cgGuE0Et3TcT",
        "outputId": "0ca66a4a-01fd-4ee9-e4e4-dfc345b149c9"
      },
      "outputs": [
        {
          "name": "stdout",
          "output_type": "stream",
          "text": [
            "e = array([[7, 7],\n",
            "       [7, 7]])\n",
            "\n",
            "f = array([[1., 0.],\n",
            "       [0., 1.]])\n",
            "\n",
            "e.dot(f) = array([[7., 7.],\n",
            "       [7., 7.]])\n",
            "\n"
          ]
        }
      ],
      "source": [
        "print(f\"{e = }\\n\")\n",
        "print(f\"{f = }\\n\")\n",
        "\n",
        "print(f\"{e.dot(f) = }\\n\")\n"
      ]
    },
    {
      "cell_type": "markdown",
      "metadata": {
        "id": "HSqqNrsP3TcT"
      },
      "source": [
        "\n",
        "**16)** Compare el anterior resultado con el uso de `np.dot`."
      ]
    },
    {
      "cell_type": "code",
      "execution_count": null,
      "metadata": {
        "id": "PHv2OZb13TcT",
        "outputId": "c2b31a6d-6573-4647-eadf-4afd6bd92ce8"
      },
      "outputs": [
        {
          "data": {
            "text/plain": [
              "array([[7., 7.],\n",
              "       [7., 7.]])"
            ]
          },
          "execution_count": 116,
          "metadata": {},
          "output_type": "execute_result"
        }
      ],
      "source": [
        "# es lo mismo, lo que hace es popular automaticamente el primer argumento\n",
        "np.dot(e, f)\n"
      ]
    },
    {
      "cell_type": "markdown",
      "metadata": {
        "id": "zDVKEuDF3TcU"
      },
      "source": [
        "\n",
        "**17)** Explique las diferentes opciones que puede adoptar el producto punto de numpy según el número de dimensiones que tengan sus factores."
      ]
    },
    {
      "cell_type": "code",
      "execution_count": null,
      "metadata": {
        "id": "3plnSW_23TcU"
      },
      "outputs": [],
      "source": []
    },
    {
      "cell_type": "markdown",
      "metadata": {
        "id": "Jo3x-Y7WZBBu"
      },
      "source": [
        "## **Ejercicio 7)** Comparando arrays\n"
      ]
    },
    {
      "cell_type": "markdown",
      "metadata": {
        "id": "SpGLuU_H3TcU"
      },
      "source": [
        "**1)** Use `==` para realizar una compación punto a punto de los arrays `a` y `b`."
      ]
    },
    {
      "cell_type": "markdown",
      "metadata": {
        "id": "rNyJr5EP3TcU"
      },
      "source": [
        "a == b\n"
      ]
    },
    {
      "cell_type": "markdown",
      "metadata": {
        "id": "dLc86idp3TcU"
      },
      "source": [
        "**3)** Use `np.array_equal(a,b)` para determinar si `a` y `b` son iguales como arrays."
      ]
    },
    {
      "cell_type": "code",
      "execution_count": 119,
      "metadata": {},
      "outputs": [
        {
          "data": {
            "text/plain": [
              "False"
            ]
          },
          "execution_count": 119,
          "metadata": {},
          "output_type": "execute_result"
        }
      ],
      "source": [
        "np.array_equal(a, b)\n"
      ]
    },
    {
      "cell_type": "markdown",
      "metadata": {
        "id": "JUrKqiWLZScG"
      },
      "source": [
        "## **Ejercicio 8)** *Copiando* arrays"
      ]
    },
    {
      "cell_type": "markdown",
      "metadata": {
        "id": "UQGNQmq_3TcU"
      },
      "source": [
        "\n",
        "**1)** Use `.view()` para crear una vista llamada `h` del array `a`."
      ]
    },
    {
      "cell_type": "markdown",
      "metadata": {
        "id": "fOQxFnXI3TcV"
      },
      "source": [
        "h = a.view()\n"
      ]
    },
    {
      "cell_type": "markdown",
      "metadata": {
        "id": "rBJYDjW8ZZNw"
      },
      "source": []
    },
    {
      "cell_type": "markdown",
      "metadata": {
        "id": "_9PRIP--3TcV"
      },
      "source": [
        "## **Ejercicio 9)** Ordenado\n"
      ]
    },
    {
      "cell_type": "markdown",
      "metadata": {
        "id": "_UwtqskO3TcV"
      },
      "source": [
        "\n",
        "**1)** Use `.sort()` para ordenar los elementos de `a`.\n"
      ]
    },
    {
      "cell_type": "markdown",
      "metadata": {
        "id": "djF0gQQu3TcV"
      },
      "source": [
        "\n",
        "**2)** Ordene los elementos de `c` a lo largo del eje `0`. Explique."
      ]
    },
    {
      "cell_type": "code",
      "execution_count": 123,
      "metadata": {},
      "outputs": [
        {
          "data": {
            "text/plain": [
              "array([[[[1.5, 2. , 3. ],\n",
              "         [4. , 5. , 6. ]],\n",
              "\n",
              "        [[1. , 2. , 3. ],\n",
              "         [4. , 5. , 6. ]]]], dtype=float32)"
            ]
          },
          "execution_count": 123,
          "metadata": {},
          "output_type": "execute_result"
        }
      ],
      "source": [
        "c.sort()\n",
        "c\n"
      ]
    },
    {
      "cell_type": "markdown",
      "metadata": {
        "id": "eLeebs0YZlLK"
      },
      "source": [
        "## **Ejercicio 10)** Indexado y *slicing* (rebanado) de arrays\n"
      ]
    },
    {
      "cell_type": "markdown",
      "metadata": {
        "id": "fNeH9ZsZ3TcV"
      },
      "source": [
        "\n",
        "**1)** Seleccione el segundo elemento de `a`.\n"
      ]
    },
    {
      "cell_type": "markdown",
      "metadata": {
        "id": "_W8L2iPQ3TcW"
      },
      "source": [
        "**2)** Seleccione el elemento en la fila 1 y columna 2 de `b`.\n",
        "Si `n` y `m` son enteros, luego `[n:m]` indica el rango de índices que van desde `n` hasta `m-1`.\n",
        "\n"
      ]
    },
    {
      "cell_type": "markdown",
      "metadata": {
        "id": "ETv7TSer3TcW"
      },
      "source": [
        "**3)** Seleccione el rango `[0:2]` de elementos de `a`.\n",
        "\n"
      ]
    },
    {
      "cell_type": "markdown",
      "metadata": {
        "id": "Exk568443TcW"
      },
      "source": [
        "**4)** Seleccione los elementos de `b` en el rango `[0:2]` de filas y la columna `1`.\n",
        "\n"
      ]
    },
    {
      "cell_type": "markdown",
      "metadata": {
        "id": "S4utwvE53TcW"
      },
      "source": [
        "**5)** Seleccione todos los elementos de `b` que esten en el rango de filas `[0:1]` y el rango completo de columnas.\n"
      ]
    },
    {
      "cell_type": "markdown",
      "metadata": {
        "id": "V_GlKUS73TcX"
      },
      "source": [
        "**6)** Uso de *elipsis*. Seleccione los elementos de `c` indexados por `[1,...]`. Es esto lo mismo que lo indexado por `[1,:,:]`?\n",
        "\n",
        "Si `n`, `m` y `s` son enteros, luego `[n:m:s]` indica el rango de índices que van desde `n` hasta `m-1` saltando de a `s` elementos.\n"
      ]
    },
    {
      "cell_type": "markdown",
      "metadata": {
        "id": "4AQIo7ya3TcX"
      },
      "source": [
        "**7)** Utilice lo mencionado anteriormente para acceder a los elementos de `a` de forma invertida.\n",
        "\n"
      ]
    },
    {
      "cell_type": "markdown",
      "metadata": {
        "id": "khKYYC_y3TcX"
      },
      "source": [
        "**8)** Seleccione los elementos de `a` que sean menores que dos.\n",
        "\n"
      ]
    },
    {
      "cell_type": "markdown",
      "metadata": {
        "id": "nK6F100P3TcX"
      },
      "source": [
        "**9)** Seleccione los elementos de `b` indicados por la lista de índices `[(1,0),(0,1),(1,2),(0,0)]` utilizando, correspondientemente, una lista de indices fila y una lista de índices columna.\n",
        "\n"
      ]
    },
    {
      "cell_type": "markdown",
      "metadata": {
        "id": "-AiUqQlm3TcX"
      },
      "source": [
        "**10)** Utilizando una lista de indices fila, seleccione las filas `1,0,1,0` de `b`, y luego, para cada selección anterior, utilice una lista de índices columna para seleccionar las columnas `0,1,2,0`."
      ]
    },
    {
      "cell_type": "code",
      "execution_count": 188,
      "metadata": {},
      "outputs": [
        {
          "data": {
            "text/plain": [
              "array([[4. , 5. , 6. , 4. ],\n",
              "       [1.5, 2. , 3. , 1.5],\n",
              "       [4. , 5. , 6. , 4. ],\n",
              "       [1.5, 2. , 3. , 1.5]], dtype=float32)"
            ]
          },
          "execution_count": 188,
          "metadata": {},
          "output_type": "execute_result"
        }
      ],
      "source": [
        "indices_filas = [1, 0, 1, 0]\n",
        "indices_columnas = [0, 1, 2, 0]\n",
        "b[indices_filas][:, indices_columnas]\n"
      ]
    },
    {
      "cell_type": "markdown",
      "metadata": {
        "id": "ElU003n_Z21x"
      },
      "source": [
        "## **Ejercicio 11)** transposición"
      ]
    },
    {
      "cell_type": "markdown",
      "metadata": {
        "id": "aIdR4iWV3TcX"
      },
      "source": [
        "**1)** Use `np.transpose()` para calcular la traspuesta del array `b`, y asignarlo a una variable `i`.\n",
        "\n"
      ]
    },
    {
      "cell_type": "markdown",
      "metadata": {
        "id": "4YyhRUpq3TcY"
      },
      "source": [
        "**2)** Use `.T` para acceder a `i` de forma traspuesta. Es esta forma traspuesta igual a `b`?"
      ]
    },
    {
      "cell_type": "code",
      "execution_count": 193,
      "metadata": {},
      "outputs": [
        {
          "data": {
            "text/plain": [
              "array([[ True,  True,  True],\n",
              "       [ True,  True,  True]])"
            ]
          },
          "execution_count": 193,
          "metadata": {},
          "output_type": "execute_result"
        }
      ],
      "source": [
        "i.T == b\n"
      ]
    },
    {
      "cell_type": "markdown",
      "metadata": {
        "id": "QIaiu19baXiQ"
      },
      "source": [
        "## **Ejercicio 12)** Redimensionado"
      ]
    },
    {
      "cell_type": "markdown",
      "metadata": {
        "id": "X_H5hCLd3TcY"
      },
      "source": [
        "**1)** Use `.ravel()` para *achatar* el array `b`.\n",
        "\n"
      ]
    },
    {
      "cell_type": "markdown",
      "metadata": {
        "id": "pGabdXdQ3TcY"
      },
      "source": [
        "**2)** Use `.reshape()` para redimensionar el array `g` de manera que adquiera dimensiones especificadas por la tupla `(3,-2)`.\n",
        "\n",
        "\n"
      ]
    },
    {
      "cell_type": "markdown",
      "metadata": {
        "id": "6cFuo77r3TcY"
      },
      "source": [
        "**3)** Que indica aquí el signo negativo del segundo índice?"
      ]
    },
    {
      "cell_type": "code",
      "execution_count": 210,
      "metadata": {},
      "outputs": [
        {
          "data": {
            "text/plain": [
              "array([[ True,  True],\n",
              "       [ True,  True],\n",
              "       [ True,  True]])"
            ]
          },
          "execution_count": 210,
          "metadata": {},
          "output_type": "execute_result"
        }
      ],
      "source": [
        "g.reshape(3, -2) == g.reshape(3, 2)\n"
      ]
    },
    {
      "cell_type": "markdown",
      "metadata": {
        "id": "-NfN6hr4afE9"
      },
      "source": [
        "## **Ejercicio 13)** Agregando y quitando elementos"
      ]
    },
    {
      "cell_type": "markdown",
      "metadata": {
        "id": "UjzR2X3J3TcY"
      },
      "source": [
        "**1)** Use `np.resize()` para crear a partir del array `h` un nuevo array de tamaño y dimensiones diferentes indicadas por `(2,6)`.\n",
        "\n"
      ]
    },
    {
      "cell_type": "markdown",
      "metadata": {
        "id": "Q8u8guTq3TcY"
      },
      "source": [
        "**2)** Use `np.append()` para crear un nuevo array que agrege los elementos de `g` al final de los elementos de `h`. Notar que `h` y `g` tienen diferentes dimensiones. Cómo resuelve `numpy` esta cuestión?\n",
        "\n"
      ]
    },
    {
      "cell_type": "markdown",
      "metadata": {
        "id": "RAw4TA3Y3TcY"
      },
      "source": [
        "**3)** Use `np.insert()` para crear una copia de `a` en donde se inserta el número `5` en la posición indexada por `1`.\n",
        "\n"
      ]
    },
    {
      "cell_type": "markdown",
      "metadata": {
        "id": "RxLjCGRQ3TcY"
      },
      "source": [
        "**4)** Use `np.delete()` para eliminar los elementos de `a` indicados por la lista de índices `[1]`."
      ]
    },
    {
      "cell_type": "code",
      "execution_count": null,
      "metadata": {},
      "outputs": [],
      "source": [
        "np.delete(a, [1])\n"
      ]
    },
    {
      "cell_type": "markdown",
      "metadata": {
        "id": "qtvq4B1NaRhe"
      },
      "source": [
        "## **Ejercicio 14)** Combinando arrays"
      ]
    },
    {
      "cell_type": "markdown",
      "metadata": {
        "id": "VH3IuRT03TcY"
      },
      "source": [
        "**a)** Use `np.concatenate()` para concatenar los arrays `a` y `d`.\n",
        "\n"
      ]
    },
    {
      "cell_type": "markdown",
      "metadata": {
        "id": "wkSiw6zi3TcY"
      },
      "source": [
        "**b)** Use `np.vstack()` para apilar verticalmente los arrays `a` y `b`.\n",
        "\n"
      ]
    },
    {
      "cell_type": "markdown",
      "metadata": {
        "id": "6h0sKWiN3TcZ"
      },
      "source": [
        "**c)** Use `np.row_stack()` para apilar verticalmente los arrays `e` y `f`.\n",
        "\n"
      ]
    },
    {
      "cell_type": "markdown",
      "metadata": {
        "id": "lYLaXj4D3TcZ"
      },
      "source": [
        "**d)** Use `np.hstack()` para apilar horizontalmente los arrays `e` y `f`.\n",
        "\n"
      ]
    },
    {
      "cell_type": "markdown",
      "metadata": {
        "id": "OXLNZO8w3TcZ"
      },
      "source": [
        "**e)** Use `np.column_stack()` para apilar horizontalmente los arrays `a` y `d`."
      ]
    },
    {
      "cell_type": "markdown",
      "metadata": {
        "id": "QXtaTV8aazoG"
      },
      "source": [
        "## **Ejercicio 15)** *Separando* arrays\n",
        "\n"
      ]
    },
    {
      "cell_type": "markdown",
      "metadata": {
        "id": "yMoFT-0n3TcZ"
      },
      "source": [
        "**a)** Use `np.hsplit()` para separar horizontalmente el array `a` en 3 partes.\n",
        "\n"
      ]
    },
    {
      "cell_type": "markdown",
      "metadata": {
        "id": "D58KAEzP3TcZ"
      },
      "source": [
        "**b)** Use `np.vsplit()` para separar verticalmente el array `c` en 2 partes.\n",
        "\n"
      ]
    },
    {
      "cell_type": "markdown",
      "metadata": {
        "id": "nNTbSRoG3TcZ"
      },
      "source": [
        "**c)** Cree el array `z` dado por\n",
        "\n",
        "        [[1, 2, 3, 4],\n",
        "        [2, 0, 0, 2],\n",
        "        [3, 1, 1, 0]]\n",
        "\n",
        "y sepárelo en dos partes a lo largo del eje `1`."
      ]
    },
    {
      "cell_type": "markdown",
      "metadata": {
        "id": "sBolXn9yxIU7"
      },
      "source": [
        "## **Ejercicio 16)** Generando números aleatorios"
      ]
    },
    {
      "cell_type": "markdown",
      "metadata": {
        "id": "dJBPffHp3TcZ"
      },
      "source": [
        "**1)** Use `np.random.random()` para generar un número aleatorio de tipo float64 a partir de la distribución uniforme en $[0,1]$.\n",
        "\n"
      ]
    },
    {
      "cell_type": "markdown",
      "metadata": {
        "id": "drXswvzj3TcZ"
      },
      "source": [
        "**2)** Use `np.random.random()` para crear un array de 10 números aleatorios de tipo float64 generados a partir de la distribución uniforme en $[0,1]$.\n",
        "\n"
      ]
    },
    {
      "cell_type": "markdown",
      "metadata": {
        "id": "XIRpKs4z3TcZ"
      },
      "source": [
        "**3)** Use `np.random.random()` para crear un array dos dimensional de dimensiones `(3,4)` conteniendo números aleatorios de tipo float64 generados a partir de la distribución uniforme en $[0,1]$.\n",
        "\n"
      ]
    },
    {
      "cell_type": "markdown",
      "metadata": {
        "id": "2rACwzJB3TcZ"
      },
      "source": [
        "**4)** Use `np.random.randn()` para generar un número aleatorio de tipo float64 a partir de la distribución normal centrada en $\\mu=0$ y de varianza $\\sigma^2=1$.\n",
        "\n"
      ]
    },
    {
      "cell_type": "markdown",
      "metadata": {
        "id": "vJTt7m513TcZ"
      },
      "source": [
        "**5)** Use `np.random.randn()` para generar un número aleatorio de tipo float64 a partir de la distribución normal centrada en $\\mu=5$ y de varianza $\\sigma^2=9$.\n",
        "\n"
      ]
    },
    {
      "cell_type": "markdown",
      "metadata": {
        "id": "psWw0u1T3TcZ"
      },
      "source": [
        "**6)** Use `np.random.randn()` para generar un array de dimensiones `(3,2,3)` conteniendo números aleatorios de tipo float64 generados a partir de la distribución normal centrada en $\\mu=-1$ y de varianza $\\sigma^2=2$.\n",
        "\n"
      ]
    },
    {
      "cell_type": "markdown",
      "metadata": {
        "id": "TdVV35G33TcZ"
      },
      "source": [
        "**7)** Use `np.random.randint()` para generar un número aleatorio de tipo int64 a partir de la distribución uniforme en $\\{0,1,2,3\\}$.\n",
        "\n"
      ]
    },
    {
      "cell_type": "markdown",
      "metadata": {
        "id": "kZ23WZN23TcZ"
      },
      "source": [
        "**8)** Use `np.random.randint()` para generar un número aleatorio de tipo int64 a partir de la distribución uniforme en $\\{10,11,12,13,14,15\\}$.\n",
        "\n"
      ]
    },
    {
      "cell_type": "markdown",
      "metadata": {
        "id": "QSnx-wY-3TcZ"
      },
      "source": [
        "**9)** Use `np.random.randint()` para generar un array de dimensiones `(3,2,3)` conteniendo números aleatorios de tipo int64 generados a partir de la distribución uniforme en $\\{0,1\\}$.\n",
        "\n"
      ]
    },
    {
      "cell_type": "markdown",
      "metadata": {
        "id": "nlwkaEgC3TcZ"
      },
      "source": [
        "**10)** Use `np.random.choice()` para seleccionar uniformemente al azar un elemento de la lista `[\"perro\",\"gato\",\"loro\",\"caballo\",\"vaca\"]`.\n",
        "\n"
      ]
    },
    {
      "cell_type": "markdown",
      "metadata": {
        "id": "bVNMYw2p3TcZ"
      },
      "source": [
        "**11)** Use `np.random.choice()` para crear un array de dimensiones `(3,3)` con selecciones generadas uniformemente al azar de los elementos de la lista `[\"perro\",\"gato\",\"loro\",\"caballo\",\"vaca\"]`.\n",
        "\n"
      ]
    },
    {
      "cell_type": "markdown",
      "metadata": {
        "id": "UF5YRNSg3TcZ"
      },
      "source": [
        "**12)** Use `np.random.choice()` para crear un array de dimensiones `(3,3,3)` con selecciones generadas al azar de los elementos de la lista `[\"perro\",\"gato\",\"loro\",\"caballo\",\"vaca\"]` de acuerdo a la correspondiente lista de probabilidades `[8/16,4/16,2/16,1/16,1/16]`.\n",
        "\n"
      ]
    },
    {
      "cell_type": "markdown",
      "metadata": {
        "id": "B4NL4T3k3TcZ"
      },
      "source": [
        "**13)** Use `np.random.permutation()` generar una permutación, seleccionada uniformemente al azar una de las `n!` permutaciones que existen de un conjunto de `n` elementos, de una la lista de números entre `0` y `n-1` para `n=10` denominada `lista_n`."
      ]
    },
    {
      "cell_type": "markdown",
      "metadata": {
        "id": "mT7fpsKr3TcZ"
      },
      "source": [
        "**14)** Repita lo anterior usando `np.random.shuffle()` para aleatorizar la lista `lista_n` *in situ*."
      ]
    }
  ],
  "metadata": {
    "colab": {
      "provenance": [],
      "include_colab_link": true
    },
    "kernelspec": {
      "display_name": "Python 3",
      "name": "python3"
    },
    "language_info": {
      "codemirror_mode": {
        "name": "ipython",
        "version": 3
      },
      "file_extension": ".py",
      "mimetype": "text/x-python",
      "name": "python",
      "nbconvert_exporter": "python",
      "pygments_lexer": "ipython3",
      "version": "3.12.4"
    }
  },
  "nbformat": 4,
  "nbformat_minor": 0
}