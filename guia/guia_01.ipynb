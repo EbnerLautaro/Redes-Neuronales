{
  "nbformat": 4,
  "nbformat_minor": 0,
  "metadata": {
    "colab": {
      "provenance": [],
      "include_colab_link": true
    },
    "kernelspec": {
      "name": "python3",
      "display_name": "Python 3"
    },
    "language_info": {
      "name": "python"
    }
  },
  "cells": [
    {
      "cell_type": "markdown",
      "metadata": {
        "id": "view-in-github",
        "colab_type": "text"
      },
      "source": [
        "<a href=\"https://colab.research.google.com/github/EbnerLautaro/Redes-Neuronales/blob/main/guia/guia_01.ipynb\" target=\"_parent\"><img src=\"https://colab.research.google.com/assets/colab-badge.svg\" alt=\"Open In Colab\"/></a>"
      ]
    },
    {
      "cell_type": "markdown",
      "source": [
        "# Familiarizandose con **Google Colab** y **Python**\n",
        "\n"
      ],
      "metadata": {
        "id": "NRYEofSD0xoF"
      }
    },
    {
      "cell_type": "code",
      "source": [
        "import numpy as np\n",
        "import matplotlib.pyplot as plt"
      ],
      "metadata": {
        "id": "I8N3D_nU1_oT"
      },
      "execution_count": null,
      "outputs": []
    },
    {
      "cell_type": "markdown",
      "source": [
        "## **Ejercicio 12)** Practicando con clases\n",
        "\n",
        "**1)** Defina una clase llamada `MiClase` que posea una variable miembro llamada `nombre`. El inicializador `__init__()` de la clase debe poseer un argumento opcional, que debe usarse para inicializar el valor de la variable miembro `nombre` con el valor por defecto `\"mi clase\"`.\n",
        "\n",
        "**2)** Agregue a la clase la función miembro `__str__()` que retorne el valor de la variable miembro `nombre`.\n",
        "\n",
        "**3)** Cree un objeto de la clase en cuestión y de nombre `mi_objeto`, y testee la función `__str__()` evaluando la expresión `str(mi_objeto)`.\n",
        "\n",
        "**4)** Agregue a la clase la función `__len__()` que retorne el largo de la variable miembro `nombre`. Testee dicha función.\n",
        "\n",
        "**5)** Agregue a la clase una función miembro llamada `cambiar_nombre` que sirva para cambiar el valor de la variable miembro `nombre`. Testee dicha función."
      ],
      "metadata": {
        "id": "bmHmMiAboqzs"
      }
    },
    {
      "cell_type": "code",
      "source": [
        "# 11.1)"
      ],
      "metadata": {
        "id": "P9PC2JGvqWSU"
      },
      "execution_count": null,
      "outputs": []
    },
    {
      "cell_type": "markdown",
      "source": [],
      "metadata": {
        "id": "dzPpBZYNdWbW"
      }
    },
    {
      "cell_type": "markdown",
      "source": [
        "## **Ejercicio 13)** Graficando\n",
        "\n",
        "**1)** Utilice `np.linspace` para generar un array de 100 valores equidistantes entre 0 y 5. Almacene el array en una variable `valores_x`.\n",
        "\n",
        "**2)** Calcule el array llamado `valores_y1` de valores `np.cos(x)` para cada `x` en `valores_x`.\n",
        "\n",
        "**3)** Calcule el array llamado `valores_y2` de valores `np.sin(x)` para cada `x` en `valores_x`.\n",
        "\n",
        "**4)** Use estos arrays para graficar, con curvas, las funciones $\\cos(x)$ y $\\sin(x)$ en el rango $[0,5]$. Use una línea contínua para el coseno y una punteada para el seno.\n",
        "\n",
        "**5)** Acomode el gráfico: agregue etiquetas a los ejes y a las curvas. Modifique los límites del área graficada para que se vean correctamente las curvas. Agregue un título a la figura."
      ],
      "metadata": {
        "id": "W4HxPu2-9Q68"
      }
    },
    {
      "cell_type": "code",
      "source": [
        "# 13.1)\n",
        "np.linspace(start=0, stop=5, num=100)"
      ],
      "metadata": {
        "id": "uasToO-NrDJH",
        "outputId": "114e915a-a6ad-49cb-ac32-ff608ed5e825",
        "colab": {
          "base_uri": "https://localhost:8080/",
          "height": 166
        }
      },
      "execution_count": null,
      "outputs": [
        {
          "output_type": "error",
          "ename": "NameError",
          "evalue": "name 'np' is not defined",
          "traceback": [
            "\u001b[0;31m---------------------------------------------------------------------------\u001b[0m",
            "\u001b[0;31mNameError\u001b[0m                                 Traceback (most recent call last)",
            "\u001b[0;32m<ipython-input-1-8c78b7fda909>\u001b[0m in \u001b[0;36m<cell line: 2>\u001b[0;34m()\u001b[0m\n\u001b[1;32m      1\u001b[0m \u001b[0;31m# 13.1)\u001b[0m\u001b[0;34m\u001b[0m\u001b[0;34m\u001b[0m\u001b[0m\n\u001b[0;32m----> 2\u001b[0;31m \u001b[0mnp\u001b[0m\u001b[0;34m.\u001b[0m\u001b[0mlinspace\u001b[0m\u001b[0;34m(\u001b[0m\u001b[0mstart\u001b[0m\u001b[0;34m=\u001b[0m\u001b[0;36m0\u001b[0m\u001b[0;34m,\u001b[0m \u001b[0mstop\u001b[0m\u001b[0;34m=\u001b[0m\u001b[0;36m5\u001b[0m\u001b[0;34m,\u001b[0m \u001b[0mnum\u001b[0m\u001b[0;34m=\u001b[0m\u001b[0;36m100\u001b[0m\u001b[0;34m)\u001b[0m\u001b[0;34m\u001b[0m\u001b[0;34m\u001b[0m\u001b[0m\n\u001b[0m",
            "\u001b[0;31mNameError\u001b[0m: name 'np' is not defined"
          ]
        }
      ]
    }
  ]
}